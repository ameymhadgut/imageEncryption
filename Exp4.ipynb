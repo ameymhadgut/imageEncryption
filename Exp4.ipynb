{
 "cells": [
  {
   "cell_type": "code",
   "execution_count": 14,
   "metadata": {},
   "outputs": [],
   "source": [
    "import argparse\n",
    "import pywt\n",
    "from skimage import io\n",
    "from skimage.color import rgb2gray\n",
    "from skimage.transform import resize\n",
    "from scipy.fftpack import dct, idct\n",
    "import numpy as np\n",
    "\n",
    "def handle_input(filename):\n",
    "    '''\n",
    "        Converts filename into rgb matrix (or rgba depending on input image)\n",
    "        input   : string => filename\n",
    "        ouptut  : [[(r,g,b)]] or [[(r,g,b,a)]] => 2d matrix where each element is a tuple of r, g, b (or RGBA)\n",
    "    '''\n",
    "    return io.imread(filename)\n",
    "\n",
    "def rgb_to_grey(rgb_img):\n",
    "    return rgb2gray(rgb_img)\n",
    "\n",
    "def handle_output(rgb_matrix, output_filename):\n",
    "    '''\n",
    "        Converts rgb (or rgba depending on input image) matrix into image file\n",
    "        input    : [[(r,g,b)]] or [[(r,g,b,a)]] => 2d matrix where each element is a tuple of r, g, b (or RGBA)\n",
    "                   string => filename\n",
    "    '''\n",
    "    io.imsave(output_filename,rgb_matrix)\n",
    "\n",
    "def handle_var_size(image, size):\n",
    "    '''\n",
    "        Resizes the images based on the size of placeholder and watermark, making them have the same shape\n",
    "        input    : placeholder and watermark image matrix\n",
    "    '''\n",
    "    image_resized = resize(image, (size, size), 1)\n",
    "    return image_resized\n",
    "\n",
    "def apply_by_block(fn, image, block_size):\n",
    "    img_dct = np.empty((len(image[0]), len(image[0])))\n",
    "    for i in range (0, len(image[0]), block_size):\n",
    "        for j in range (0, len(image[0]), block_size):\n",
    "            current_block = image[i:i+block_size, j:j+block_size]\n",
    "            current_block_dct = fn(fn(current_block.T, norm=\"ortho\").T, norm=\"ortho\")\n",
    "            img_dct[i:i+block_size, j:j+block_size] = current_block_dct\n",
    "    return img_dct\n",
    "\n",
    "def embed_by_block(img_dct, to_hide_array, block_size):\n",
    "    idx = 0\n",
    "    for i in range (0, len(img_dct), block_size):\n",
    "        for j in range (0, len(img_dct), block_size):\n",
    "            if idx < len(to_hide_array):\n",
    "                current_dct = img_dct[i:i+block_size, j:j+block_size]\n",
    "                current_dct[5][5] = to_hide_array[idx]\n",
    "                img_dct[i:i+block_size, j:j+block_size] = current_dct\n",
    "                idx += 1 \n",
    "    return img_dct\n",
    "\n",
    "def extract_by_block(img_dct, block_size):\n",
    "    combined_watermark = []\n",
    "    for x in range (0, len(img_dct), 8):\n",
    "        for y in range (0, len(img_dct), 8):\n",
    "            inner_dct = img_dct[x:x+8, y:y+8]\n",
    "            combined_watermark.append(inner_dct[5][5])\n",
    "    return combined_watermark\n",
    "            \n",
    "def encrypt(placeholder_image, to_hide_image, encryption_method, output_filename):\n",
    "    '''\n",
    "        Encrypts to_hide_image into placeholder method using encryption_method and outputs encrypted file as output_filename\n",
    "        input    : string => placeholder filename\n",
    "                   string => filename of image to hide\n",
    "                   string => encryption method chosen\n",
    "                   string => filename of output image\n",
    "    '''\n",
    "    \n",
    "    #Getting Image matrices\n",
    "    placeholder_rgb = handle_input(placeholder_image)\n",
    "    to_hide_rgb = handle_input(to_hide_image)\n",
    "    \n",
    "    #Resizing to correct sizes\n",
    "    placeholder_rgb = handle_var_size(placeholder_rgb, 2048)\n",
    "    to_hide_rgb = handle_var_size(to_hide_rgb, 128)\n",
    "    \n",
    "    #Converting rgb to greyscale\n",
    "    placeholder_rgb = rgb_to_grey(placeholder_rgb)\n",
    "    to_hide_rgb = rgb_to_grey(to_hide_rgb)\n",
    "    \n",
    "    #Watermarking starts here\n",
    "    \n",
    "    #Applying 2D multilevel Discrete Wavelet Transform\n",
    "    wt_l1 = list(pywt.wavedec2(data = placeholder_rgb, wavelet = 'haar', level = 1))\n",
    "    \n",
    "    #Applying DCT \n",
    "    dct_l1 = apply_by_block(dct, wt_l1[0], 8)\n",
    "    \n",
    "    #Embed watermark into image\n",
    "    dct_l1 = embed_by_block(dct_l1, to_hide_rgb.ravel(), 8)\n",
    "    \n",
    "    #Applying IDCT\n",
    "    wt_l1[0] = apply_by_block(idct, dct_l1, 8)\n",
    "    \n",
    "    #2D multilevel reconstruction \n",
    "    watermarked_img = pywt.waverec2(wt_l1, 'haar')\n",
    "    \n",
    "    #Watermarking ends here\n",
    "    \n",
    "    #Saving the output watermarked image\n",
    "    #io.imshow(watermarked_img)\n",
    "    handle_output(watermarked_img, output_filename)"
   ]
  },
  {
   "cell_type": "code",
   "execution_count": 10,
   "metadata": {},
   "outputs": [],
   "source": [
    "def decrypt(encrypted_image, encryption_method, output_filename = 'watermark.png'):\n",
    "    '''\n",
    "        Encrypts to_hide_image into placeholder method using encryption_method and outputs encrypted file as output_filename\n",
    "        input    : string => filename of encrypted image\n",
    "                   string => encryption method chosen\n",
    "                   string => filename of output image\n",
    "    '''\n",
    "    #Getting image matrix \n",
    "    encrypted_rgb = handle_input(encrypted_image)\n",
    "    \n",
    "    #Resizing to correct sizes\n",
    "    encrypted_rgb = handle_var_size(encrypted_rgb, 2048)\n",
    "    \n",
    "    #Applying 2D multilevel Discrete Wavelet Transform\n",
    "    wt_l1 = list(pywt.wavedec2(data = encrypted_rgb, wavelet = 'haar', level = 1))\n",
    "    print(encrypted_rgb.shape)\n",
    "    #Applying DCT by block size of 8\n",
    "    dct_l1 = apply_by_block(dct, wt_l1[0], 8)\n",
    "    \n",
    "    #Extracting watermark\n",
    "    combined_watermark = extract_by_block(dct_l1, 8)\n",
    "    decrypted_img = np.array(combined_watermark).reshape(128, 128)\n",
    "    \n",
    "    #Saving the output watermark image\n",
    "    #io.imshow(decrypted_img)\n",
    "    handle_output(decrypted_img, output_filename)"
   ]
  },
  {
   "cell_type": "code",
   "execution_count": 11,
   "metadata": {
    "scrolled": true
   },
   "outputs": [
    {
     "name": "stderr",
     "output_type": "stream",
     "text": [
      "Lossy conversion from float64 to uint8. Range [0, 1]. Convert image to uint8 prior to saving to suppress this warning.\n"
     ]
    }
   ],
   "source": [
    "encrypt('bunny.png', 'cube.png', '', 'test1.png')"
   ]
  },
  {
   "cell_type": "code",
   "execution_count": 12,
   "metadata": {
    "scrolled": false
   },
   "outputs": [
    {
     "name": "stdout",
     "output_type": "stream",
     "text": [
      "(2048, 2048)\n"
     ]
    },
    {
     "name": "stderr",
     "output_type": "stream",
     "text": [
      "Lossy conversion from float64 to uint8. Range [0, 1]. Convert image to uint8 prior to saving to suppress this warning.\n"
     ]
    }
   ],
   "source": [
    "decrypt('hidden2.png','', 'hidden_chocolate.png')"
   ]
  },
  {
   "cell_type": "code",
   "execution_count": 15,
   "metadata": {},
   "outputs": [
    {
     "name": "stdout",
     "output_type": "stream",
     "text": [
      "(2048, 2048)\n"
     ]
    }
   ],
   "source": [
    "encrypted_rgb = handle_input('hidden2.png')\n",
    "print(encrypted_rgb.shape)\n",
    "#Resizing to correct sizes\n",
    "encrypted_rgb = handle_var_size(encrypted_rgb, 2048)"
   ]
  },
  {
   "cell_type": "code",
   "execution_count": 16,
   "metadata": {},
   "outputs": [
    {
     "data": {
      "text/plain": [
       "(2048, 2048)"
      ]
     },
     "execution_count": 16,
     "metadata": {},
     "output_type": "execute_result"
    }
   ],
   "source": [
    "io.imread('hidden2.png').shape"
   ]
  },
  {
   "cell_type": "code",
   "execution_count": 24,
   "metadata": {},
   "outputs": [],
   "source": [
    "def handle_var_resize(image, size):\n",
    "    '''\n",
    "        Resizes the images based on the size of placeholder and watermark, making them have the same shape\n",
    "        input    : placeholder and watermark image matrix\n",
    "    '''\n",
    "    image_resized = resize(image, (size, size), 1)\n",
    "    return image_resized\n",
    "def decrypt_dctdwt(encrypted_image, output_filename = 'watermark.png'):\n",
    "    '''\n",
    "        Encrypts to_hide_image into placeholder method using encryption_method and outputs encrypted file as output_filename\n",
    "        input    : string => filename of encrypted image\n",
    "                   string => encryption method chosen\n",
    "                   string => filename of output image\n",
    "    '''\n",
    "    \n",
    "    #Getting image matrix \n",
    "    encrypted_rgb = handle_input(encrypted_image)\n",
    "    print(encrypted_rgb.shape)\n",
    "    #Resizing to correct sizes\n",
    "    encrypted_rgb = handle_var_resize(encrypted_rgb, 2048)\n",
    "    print(encrypted_rgb.shape)\n",
    "    #Applying 2D multilevel Discrete Wavelet Transform\n",
    "    wt_l1 = list(pywt.wavedec2(data = encrypted_rgb, wavelet = 'haar', level = 1))\n",
    "    \n",
    "    #Applying DCT by block size of 8\n",
    "    dct_l1 = apply_by_block(dct, wt_l1[0], 8)\n",
    "    \n",
    "    #Extracting watermark\n",
    "    combined_watermark = extract_by_block(dct_l1, 8)\n",
    "    decrypted_img = np.array(combined_watermark).reshape(128, 128)\n",
    "    \n",
    "    #Saving the output watermark image\n",
    "    handle_output(decrypted_img, output_filename)\n",
    "    \n",
    "def decrypt(placeholder_image, encrypted_image, encryption_method, output_filename):\n",
    "    '''\n",
    "        Encrypts to_hide_image into placeholder method using encryption_method and outputs encrypted file as output_filename\n",
    "        input    : string => filename of encrypted image\n",
    "                   string => encryption method chosen\n",
    "                   string => filename of output image\n",
    "    '''\n",
    "    \n",
    "    if(encryption_method == 'dct'):\n",
    "        encryption_parameter = 0.01\n",
    "        decrypt_dct(encryption_parameter, placeholder_image, encrypted_image, encryption_method, output_filename)\n",
    "    \n",
    "    elif(encryption_method == 'dctdwt'):\n",
    "        decrypt_dctdwt(encrypted_image, output_filename)\n",
    "        \n",
    "    else:\n",
    "        print(\"Encryption Method not specified or unavailable\")"
   ]
  },
  {
   "cell_type": "code",
   "execution_count": 25,
   "metadata": {},
   "outputs": [
    {
     "name": "stdout",
     "output_type": "stream",
     "text": [
      "(2048, 2048)\n",
      "(2048, 2048)\n"
     ]
    },
    {
     "name": "stderr",
     "output_type": "stream",
     "text": [
      "Lossy conversion from float64 to uint8. Range [0, 1]. Convert image to uint8 prior to saving to suppress this warning.\n"
     ]
    }
   ],
   "source": [
    "decrypt('bunny.png','hidden2.png','dctdwt','newtest.png')"
   ]
  },
  {
   "cell_type": "code",
   "execution_count": null,
   "metadata": {},
   "outputs": [],
   "source": []
  }
 ],
 "metadata": {
  "kernelspec": {
   "display_name": "Python 3",
   "language": "python",
   "name": "python3"
  },
  "language_info": {
   "codemirror_mode": {
    "name": "ipython",
    "version": 3
   },
   "file_extension": ".py",
   "mimetype": "text/x-python",
   "name": "python",
   "nbconvert_exporter": "python",
   "pygments_lexer": "ipython3",
   "version": "3.8.3"
  }
 },
 "nbformat": 4,
 "nbformat_minor": 4
}
