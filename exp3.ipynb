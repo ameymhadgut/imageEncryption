{
 "cells": [
  {
   "cell_type": "code",
   "execution_count": 178,
   "metadata": {},
   "outputs": [],
   "source": [
    "import argparse\n",
    "from skimage import io\n",
    "from scipy.fftpack import dct, idct\n",
    "import numpy as np\n",
    "\n",
    "def handle_input(filename):\n",
    "    '''\n",
    "        Converts filename into rgb matrix (or rgba depending on input image)\n",
    "        input   : string => filename\n",
    "        ouptut  : [[(r,g,b)]] or [[(r,g,b,a)]] => 2d matrix where each element is a tuple of r, g, b (or RGBA)\n",
    "    '''\n",
    "    \n",
    "    return io.imread(filename)/255\n",
    "    \n",
    "\n",
    "def handle_output(rgb_matrix, output_filename):\n",
    "    '''\n",
    "        Converts rgb (or rgba depending on input image) matrix into image file\n",
    "        input    : [[(r,g,b)]] or [[(r,g,b,a)]] => 2d matrix where each element is a tuple of r, g, b (or RGBA)\n",
    "                   string => filename\n",
    "    '''\n",
    "    \n",
    "    io.imsave(output_filename,rgb_matrix)\n",
    "    \n",
    "\n",
    "def encrypt(placeholder_image, to_hide_image, encryption_method, output_filename):\n",
    "    '''\n",
    "        Encrypts to_hide_image into placeholder method using encryption_method and outputs encrypted file as output_filename\n",
    "        input    : string => placeholder filename\n",
    "                   string => filename of image to hide\n",
    "                   string => encryption method chosen\n",
    "                   string => filename of output image\n",
    "    '''\n",
    "    \n",
    "    placeholder_rgb = handle_input(placeholder_image)\n",
    "    to_hide_rgb = handle_input(to_hide_image)\n",
    "    #print(to_hide_rgb)\n",
    "    encryption_parameter = 0.01\n",
    "    \n",
    "    dct_image = dct(placeholder_rgb, norm='ortho') + (encryption_parameter * to_hide_rgb)\n",
    "    encrypted_rgb = idct(dct_image, norm='ortho')\n",
    "    \n",
    "    handle_output(encrypted_rgb, output_filename)"
   ]
  },
  {
   "cell_type": "code",
   "execution_count": 179,
   "metadata": {},
   "outputs": [],
   "source": [
    "def decrypt(placeholder_image, encrypted_image, encryption_method, output_filename):\n",
    "    '''\n",
    "        Encrypts to_hide_image into placeholder method using encryption_method and outputs encrypted file as output_filename\n",
    "        input    : string => filename of encrypted image\n",
    "                   string => encryption method chosen\n",
    "                   string => filename of output image\n",
    "    '''\n",
    "    placeholder_rgb = handle_input(placeholder_image)\n",
    "    encrypted_rgb = handle_input(encrypted_image)\n",
    "    \n",
    "    encryption_parameter = 0.01\n",
    "    #alpha = encrypted_rgb[0][0][3]\n",
    "    #print(encrypted_rgb)\n",
    "    decrypted_rgb = (dct(encrypted_rgb, norm='ortho') - dct(placeholder_rgb, norm='ortho'))/encryption_parameter\n",
    "    #print('After')\n",
    "    #decrypted_rgb[:,:,3] = 1\n",
    "    #print(decrypted_rgb)\n",
    "    io.imshow(decrypted_rgb)\n",
    "    handle_output(decrypted_rgb, output_filename)"
   ]
  },
  {
   "cell_type": "code",
   "execution_count": 180,
   "metadata": {},
   "outputs": [
    {
     "name": "stderr",
     "output_type": "stream",
     "text": [
      "Lossy conversion from float64 to uint8. Range [0.0027157148300435627, 1.0013409734542598]. Convert image to uint8 prior to saving to suppress this warning.\n"
     ]
    }
   ],
   "source": [
    "encrypt('bunny.png', 'cube.png', '', 'test.png')"
   ]
  },
  {
   "cell_type": "code",
   "execution_count": 181,
   "metadata": {},
   "outputs": [
    {
     "name": "stderr",
     "output_type": "stream",
     "text": [
      "Clipping input data to the valid range for imshow with RGB data ([0..1] for floats or [0..255] for integers).\n",
      "Lossy conversion from float64 to uint8. Range [-0.39215686274511885, 1.2369890313329384]. Convert image to uint8 prior to saving to suppress this warning.\n"
     ]
    },
    {
     "data": {
      "image/png": "[encoded data removed]",
      "text/plain": [
       "<Figure size 432x288 with 2 Axes>"
      ]
     },
     "metadata": {
      "needs_background": "light"
     },
     "output_type": "display_data"
    }
   ],
   "source": [
    "decrypt('bunny.png', 'test.png','', 'hidden_chocolate.png')"
   ]
  },
  {
   "cell_type": "code",
   "execution_count": null,
   "metadata": {},
   "outputs": [],
   "source": []
  },
  {
   "cell_type": "code",
   "execution_count": null,
   "metadata": {},
   "outputs": [],
   "source": []
  }
 ],
 "metadata": {
  "kernelspec": {
   "display_name": "Python 3",
   "language": "python",
   "name": "python3"
  },
  "language_info": {
   "codemirror_mode": {
    "name": "ipython",
    "version": 3
   },
   "file_extension": ".py",
   "mimetype": "text/x-python",
   "name": "python",
   "nbconvert_exporter": "python",
   "pygments_lexer": "ipython3",
   "version": "3.8.3"
  }
 },
 "nbformat": 4,
 "nbformat_minor": 4
}
